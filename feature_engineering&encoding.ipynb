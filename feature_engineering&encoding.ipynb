{
 "cells": [
  {
   "cell_type": "code",
   "execution_count": 5,
   "id": "d913bfd8-2b29-4967-8a2c-4af833d71609",
   "metadata": {},
   "outputs": [
    {
     "name": "stdout",
     "output_type": "stream",
     "text": [
      "✅ Feature engineering and split completed.\n",
      "Shape of X_train: (2928, 15), y_train: (2928,)\n"
     ]
    }
   ],
   "source": [
    "import pandas as pd\n",
    "from sklearn.model_selection import train_test_split\n",
    "from sklearn.preprocessing import OneHotEncoder\n",
    "\n",
    "# Load your labeled dataset\n",
    "df = pd.read_csv(\"ecommerce_data_with_returns.csv\")\n",
    "\n",
    "# Define input features and target\n",
    "features = [\"category\", \"price_rs.\", \"discount_%\", \"final_pricers.\", \n",
    "            \"payment_method\", \"purchase_month\", \"purchase_dayofweek\"]\n",
    "target = \"is_returned\"\n",
    "\n",
    "# Prepare feature dataframe\n",
    "df_model = df[features + [target]]\n",
    "\n",
    "# One-hot encode categorical columns\n",
    "categorical_cols = [\"category\", \"payment_method\"]\n",
    "encoder = OneHotEncoder(drop=\"first\", sparse_output=False)\n",
    "X_cat = encoder.fit_transform(df_model[categorical_cols])\n",
    "X_cat = pd.DataFrame(X_cat, columns=encoder.get_feature_names_out(categorical_cols))\n",
    "\n",
    "# Combine encoded categorical and numeric features\n",
    "X_num = df_model.drop(columns=categorical_cols + [target])\n",
    "X = pd.concat([X_num.reset_index(drop=True), X_cat.reset_index(drop=True)], axis=1)\n",
    "y = df_model[target]\n",
    "\n",
    "# Train-test split\n",
    "X_train, X_test, y_train, y_test = train_test_split(\n",
    "    X, y, test_size=0.2, random_state=42, stratify=y\n",
    ")\n",
    "\n",
    "print(\"✅ Feature engineering and split completed.\")\n",
    "print(f\"Shape of X_train: {X_train.shape}, y_train: {y_train.shape}\")\n"
   ]
  },
  {
   "cell_type": "code",
   "execution_count": 7,
   "id": "49de87a8-6094-4389-a1ed-c422562e0329",
   "metadata": {},
   "outputs": [
    {
     "name": "stdout",
     "output_type": "stream",
     "text": [
      "🎯 Model trained.\n"
     ]
    }
   ],
   "source": [
    "from sklearn.linear_model import LogisticRegression\n",
    "from sklearn.metrics import classification_report, confusion_matrix, roc_auc_score\n",
    "\n",
    "# Reuse the X_train and y_train already created\n",
    "model = LogisticRegression(class_weight='balanced', max_iter=1000, random_state=42)\n",
    "model.fit(X_train, y_train)\n",
    "\n",
    "# Optional: evaluate to confirm it's working\n",
    "y_pred = model.predict(X_test)\n",
    "y_prob = model.predict_proba(X_test)[:, 1]\n",
    "\n",
    "print(\"🎯 Model trained.\")\n"
   ]
  },
  {
   "cell_type": "code",
   "execution_count": 8,
   "id": "5bbd6bd4-74eb-4619-afa6-79a87021da51",
   "metadata": {},
   "outputs": [
    {
     "name": "stdout",
     "output_type": "stream",
     "text": [
      "✅ Return scores added and files saved.\n"
     ]
    }
   ],
   "source": [
    "# Now predict for the full dataset\n",
    "df['return_probability'] = model.predict_proba(X)[:, 1]\n",
    "\n",
    "# Save outputs\n",
    "df.to_csv(\"ecommerce_data_with_return_scores.csv\", index=False)\n",
    "df[df['return_probability'] > 0.5].to_csv(\"high_risk_products.csv\", index=False)\n",
    "\n",
    "print(\"✅ Return scores added and files saved.\")\n"
   ]
  },
  {
   "cell_type": "code",
   "execution_count": null,
   "id": "44e32a46-ff9f-43f0-88a8-47a38849d879",
   "metadata": {},
   "outputs": [],
   "source": []
  }
 ],
 "metadata": {
  "kernelspec": {
   "display_name": "Python 3 (ipykernel)",
   "language": "python",
   "name": "python3"
  },
  "language_info": {
   "codemirror_mode": {
    "name": "ipython",
    "version": 3
   },
   "file_extension": ".py",
   "mimetype": "text/x-python",
   "name": "python",
   "nbconvert_exporter": "python",
   "pygments_lexer": "ipython3",
   "version": "3.13.3"
  }
 },
 "nbformat": 4,
 "nbformat_minor": 5
}
