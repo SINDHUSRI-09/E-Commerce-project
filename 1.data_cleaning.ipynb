{
 "cells": [
  {
   "cell_type": "code",
   "execution_count": 1,
   "id": "09bcab32-07be-4220-a97e-77a72eeaf9ab",
   "metadata": {},
   "outputs": [],
   "source": [
    "import pandas as pd"
   ]
  },
  {
   "cell_type": "code",
   "execution_count": 3,
   "id": "65c9228d-c429-495f-be16-e9ff6274c31e",
   "metadata": {},
   "outputs": [
    {
     "name": "stdout",
     "output_type": "stream",
     "text": [
      "       User_ID  Product_ID        Category  Price (Rs.)  Discount (%)  \\\n",
      "0     337c166f  f414122f-e          Sports        36.53            15   \n",
      "1     d38a19bf  fde50f9c-5        Clothing       232.79            20   \n",
      "2     d7f5f0b0  0d96fc90-3          Sports       317.02            25   \n",
      "3     395d4994  964fc44b-d            Toys       173.19            25   \n",
      "4     a83c145c  d70e2fc6-e          Beauty       244.80            20   \n",
      "...        ...         ...             ...          ...           ...   \n",
      "3655  67abda0a  28714133-6          Beauty       486.79             0   \n",
      "3656  34ebc1a0  08838c2c-9            Toys       212.87            15   \n",
      "3657  1defd3b1  c39a4f16-6  Home & Kitchen       389.76             0   \n",
      "3658  0611293d  b4f67f96-9     Electronics       447.66            30   \n",
      "3659  e73ad07c  a5d07442-d  Home & Kitchen       235.77            30   \n",
      "\n",
      "      Final_Price(Rs.)    Payment_Method Purchase_Date  \n",
      "0                31.05       Net Banking    12-11-2024  \n",
      "1               186.23       Net Banking    09-02-2024  \n",
      "2               237.76       Credit Card    01-09-2024  \n",
      "3               129.89               UPI    01-04-2024  \n",
      "4               195.84       Net Banking    27-09-2024  \n",
      "...                ...               ...           ...  \n",
      "3655            486.79               UPI    14-05-2024  \n",
      "3656            180.94  Cash on Delivery    19-11-2024  \n",
      "3657            389.76       Net Banking    07-08-2024  \n",
      "3658            313.36               UPI    21-05-2024  \n",
      "3659            165.04               UPI    14-04-2024  \n",
      "\n",
      "[3660 rows x 8 columns]\n"
     ]
    }
   ],
   "source": [
    "#load data set\n",
    "df = pd.read_csv('ecommerce_dataset_updated.csv')\n",
    "print(df)"
   ]
  },
  {
   "cell_type": "code",
   "execution_count": 4,
   "id": "1c43983b-4b1a-4384-a9c1-4718c3225efd",
   "metadata": {},
   "outputs": [
    {
     "name": "stdout",
     "output_type": "stream",
     "text": [
      "    User_ID  Product_ID  Category  Price (Rs.)  Discount (%)  \\\n",
      "0  337c166f  f414122f-e    Sports        36.53            15   \n",
      "1  d38a19bf  fde50f9c-5  Clothing       232.79            20   \n",
      "2  d7f5f0b0  0d96fc90-3    Sports       317.02            25   \n",
      "3  395d4994  964fc44b-d      Toys       173.19            25   \n",
      "4  a83c145c  d70e2fc6-e    Beauty       244.80            20   \n",
      "\n",
      "   Final_Price(Rs.) Payment_Method Purchase_Date  \n",
      "0             31.05    Net Banking    12-11-2024  \n",
      "1            186.23    Net Banking    09-02-2024  \n",
      "2            237.76    Credit Card    01-09-2024  \n",
      "3            129.89            UPI    01-04-2024  \n",
      "4            195.84    Net Banking    27-09-2024  \n"
     ]
    }
   ],
   "source": [
    "print(df.head())"
   ]
  },
  {
   "cell_type": "code",
   "execution_count": 5,
   "id": "40941409-25f5-41e8-a548-a31b4b49122c",
   "metadata": {},
   "outputs": [
    {
     "name": "stdout",
     "output_type": "stream",
     "text": [
      "       User_ID  Product_ID Category  Price (Rs.)  Discount (%)  \\\n",
      "2287  a69ea338  2215cddb-3    Books       368.07             5   \n",
      "\n",
      "      Final_Price(Rs.) Payment_Method Purchase_Date  \n",
      "2287            349.67    Credit Card    27-01-2024  \n"
     ]
    }
   ],
   "source": [
    "print(df.sample())"
   ]
  },
  {
   "cell_type": "code",
   "execution_count": 6,
   "id": "a4551d98-8d58-42e5-8b49-06d7f1d83897",
   "metadata": {},
   "outputs": [],
   "source": [
    "# Standardize column names\n",
    "df.columns = (\n",
    "    df.columns.str.strip()\n",
    "    .str.lower()\n",
    "    .str.replace(\" \", \"_\")\n",
    "    .str.replace(\"(\", \"\", regex=False)\n",
    "    .str.replace(\")\", \"\", regex=False)\n",
    ")"
   ]
  },
  {
   "cell_type": "code",
   "execution_count": 7,
   "id": "8f78c5f0-9bf9-4c5c-8d4c-a2229823693b",
   "metadata": {},
   "outputs": [
    {
     "name": "stdout",
     "output_type": "stream",
     "text": [
      "✅ purchase_date converted successfully.\n"
     ]
    }
   ],
   "source": [
    "# Convert purchase_date to datetime format\n",
    "try:\n",
    "    df[\"purchase_date\"] = pd.to_datetime(df[\"purchase_date\"], format=\"%d-%m-%Y\")\n",
    "    print(\"✅ purchase_date converted successfully.\")\n",
    "except Exception as e:\n",
    "    print(\"❌ Error converting purchase_date:\", e)"
   ]
  },
  {
   "cell_type": "code",
   "execution_count": 8,
   "id": "9d3631a3-fca5-4267-97f9-0e227c9465a0",
   "metadata": {},
   "outputs": [],
   "source": [
    "# Feature Engineering\n",
    "df[\"purchase_month\"] = df[\"purchase_date\"].dt.month\n",
    "df[\"purchase_dayofweek\"] = df[\"purchase_date\"].dt.dayofweek"
   ]
  },
  {
   "cell_type": "code",
   "execution_count": 9,
   "id": "9d26f744-cc60-4e15-a839-47e742622f63",
   "metadata": {},
   "outputs": [
    {
     "name": "stdout",
     "output_type": "stream",
     "text": [
      "\n",
      "🔍 Missing Values:\n",
      " user_id               0\n",
      "product_id            0\n",
      "category              0\n",
      "price_rs.             0\n",
      "discount_%            0\n",
      "final_pricers.        0\n",
      "payment_method        0\n",
      "purchase_date         0\n",
      "purchase_month        0\n",
      "purchase_dayofweek    0\n",
      "dtype: int64\n"
     ]
    }
   ],
   "source": [
    "# Check for missing values\n",
    "missing_summary = df.isnull().sum()\n",
    "print(\"\\n🔍 Missing Values:\\n\", missing_summary)\n"
   ]
  },
  {
   "cell_type": "code",
   "execution_count": 10,
   "id": "77b8fa3d-8898-42ac-8b8c-804fef7c29ff",
   "metadata": {},
   "outputs": [
    {
     "name": "stdout",
     "output_type": "stream",
     "text": [
      "\n",
      "📄 Cleaned Data Sample:\n",
      "    user_id  product_id  category  price_rs.  discount_%  final_pricers.  \\\n",
      "0  337c166f  f414122f-e    Sports      36.53          15           31.05   \n",
      "1  d38a19bf  fde50f9c-5  Clothing     232.79          20          186.23   \n",
      "2  d7f5f0b0  0d96fc90-3    Sports     317.02          25          237.76   \n",
      "3  395d4994  964fc44b-d      Toys     173.19          25          129.89   \n",
      "4  a83c145c  d70e2fc6-e    Beauty     244.80          20          195.84   \n",
      "\n",
      "  payment_method purchase_date  purchase_month  purchase_dayofweek  \n",
      "0    Net Banking    2024-11-12              11                   1  \n",
      "1    Net Banking    2024-02-09               2                   4  \n",
      "2    Credit Card    2024-09-01               9                   6  \n",
      "3            UPI    2024-04-01               4                   0  \n",
      "4    Net Banking    2024-09-27               9                   4  \n"
     ]
    }
   ],
   "source": [
    "# Preview cleaned data\n",
    "print(\"\\n📄 Cleaned Data Sample:\")\n",
    "print(df.head())"
   ]
  },
  {
   "cell_type": "code",
   "execution_count": 12,
   "id": "11a3c6c6-9a7c-4dcd-ba6f-9aafdc984b24",
   "metadata": {},
   "outputs": [
    {
     "name": "stdout",
     "output_type": "stream",
     "text": [
      "\n",
      "✅ Cleaned dataset saved as 'cleaned_ecommerce_data.csv'\n"
     ]
    }
   ],
   "source": [
    "# Save cleaned dataset\n",
    "df.to_csv(\"cleaned_ecommerce_data.csv\", index=False)\n",
    "print(\"\\n✅ Cleaned dataset saved as 'cleaned_ecommerce_data.csv'\")"
   ]
  },
  {
   "cell_type": "code",
   "execution_count": null,
   "id": "c188dce7-a3bc-4b1b-bb47-3e98d84083ed",
   "metadata": {},
   "outputs": [],
   "source": []
  }
 ],
 "metadata": {
  "kernelspec": {
   "display_name": "Python 3 (ipykernel)",
   "language": "python",
   "name": "python3"
  },
  "language_info": {
   "codemirror_mode": {
    "name": "ipython",
    "version": 3
   },
   "file_extension": ".py",
   "mimetype": "text/x-python",
   "name": "python",
   "nbconvert_exporter": "python",
   "pygments_lexer": "ipython3",
   "version": "3.13.3"
  }
 },
 "nbformat": 4,
 "nbformat_minor": 5
}
