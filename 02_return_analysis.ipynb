{
 "cells": [
  {
   "cell_type": "code",
   "execution_count": 1,
   "id": "cf0abbbf-6e97-43cc-be53-8a04be33967b",
   "metadata": {},
   "outputs": [],
   "source": [
    "import pandas as pd\n",
    "import numpy as np"
   ]
  },
  {
   "cell_type": "code",
   "execution_count": 2,
   "id": "6b13fc16-b40f-4d1f-90c7-52c6dc32efeb",
   "metadata": {},
   "outputs": [],
   "source": [
    "# Load cleaned dataset\n",
    "df = pd.read_csv(\"cleaned_ecommerce_data.csv\")"
   ]
  },
  {
   "cell_type": "code",
   "execution_count": 3,
   "id": "449f96eb-edcc-4282-872e-d91faea66d9e",
   "metadata": {},
   "outputs": [],
   "source": [
    "# Step 1: Add synthetic return flag (15% returned)\n",
    "np.random.seed(42)  # for reproducibility\n",
    "df[\"is_returned\"] = np.random.choice([0, 1], size=len(df), p=[0.85, 0.15])"
   ]
  },
  {
   "cell_type": "code",
   "execution_count": 4,
   "id": "c14ec737-7d29-4a23-822f-f604deb17c97",
   "metadata": {},
   "outputs": [
    {
     "name": "stdout",
     "output_type": "stream",
     "text": [
      "🔁 Return Rate by Category (%):\n",
      " category\n",
      "Home & Kitchen    17.67\n",
      "Toys              16.44\n",
      "Books             16.10\n",
      "Electronics       15.66\n",
      "Beauty            14.46\n",
      "Clothing          12.05\n",
      "Sports            11.73\n",
      "Name: is_returned, dtype: float64\n"
     ]
    }
   ],
   "source": [
    "# Step 2: Return rate by category\n",
    "category_return = df.groupby(\"category\")[\"is_returned\"].mean().sort_values(ascending=False) * 100\n",
    "print(\"🔁 Return Rate by Category (%):\\n\", category_return.round(2))"
   ]
  },
  {
   "cell_type": "code",
   "execution_count": 5,
   "id": "489a0caf-72de-4dc6-a851-86e135f6b7a0",
   "metadata": {},
   "outputs": [
    {
     "name": "stdout",
     "output_type": "stream",
     "text": [
      "\n",
      "⚠️ 'supplier' column not found — skipping supplier analysis.\n"
     ]
    }
   ],
   "source": [
    "# Step 3: Return rate by supplier (if column exists)\n",
    "if \"supplier\" in df.columns:\n",
    "    supplier_return = df.groupby(\"supplier\")[\"is_returned\"].mean().sort_values(ascending=False) * 100\n",
    "    print(\"\\n🏷️ Return Rate by Supplier (%):\\n\", supplier_return.round(2))\n",
    "else:\n",
    "    print(\"\\n⚠️ 'supplier' column not found — skipping supplier analysis.\")"
   ]
  },
  {
   "cell_type": "code",
   "execution_count": 6,
   "id": "cf04701f-b0c5-4827-b92e-724dd5db41a1",
   "metadata": {},
   "outputs": [
    {
     "name": "stdout",
     "output_type": "stream",
     "text": [
      "\n",
      "✅ Updated dataset saved as 'ecommerce_data_with_returns.csv'\n"
     ]
    }
   ],
   "source": [
    "# Step 4: Save updated dataset\n",
    "df.to_csv(\"ecommerce_data_with_returns.csv\", index=False)\n",
    "print(\"\\n✅ Updated dataset saved as 'ecommerce_data_with_returns.csv'\")"
   ]
  },
  {
   "cell_type": "code",
   "execution_count": null,
   "id": "4cc4f51f-b31a-474f-8fb9-8ee64d76a262",
   "metadata": {},
   "outputs": [],
   "source": []
  }
 ],
 "metadata": {
  "kernelspec": {
   "display_name": "Python 3 (ipykernel)",
   "language": "python",
   "name": "python3"
  },
  "language_info": {
   "codemirror_mode": {
    "name": "ipython",
    "version": 3
   },
   "file_extension": ".py",
   "mimetype": "text/x-python",
   "name": "python",
   "nbconvert_exporter": "python",
   "pygments_lexer": "ipython3",
   "version": "3.13.3"
  }
 },
 "nbformat": 4,
 "nbformat_minor": 5
}
